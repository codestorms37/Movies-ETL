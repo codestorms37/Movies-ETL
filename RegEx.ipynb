{
 "cells": [
  {
   "cell_type": "markdown",
   "id": "b61e3c56",
   "metadata": {},
   "source": [
    "# RegEx Functions"
   ]
  }
 ],
 "metadata": {
  "kernelspec": {
   "display_name": "py38",
   "language": "python",
   "name": "py38"
  },
  "language_info": {
   "codemirror_mode": {
    "name": "ipython",
    "version": 3
   },
   "file_extension": ".py",
   "mimetype": "text/x-python",
   "name": "python",
   "nbconvert_exporter": "python",
   "pygments_lexer": "ipython3",
   "version": "3.8.10"
  }
 },
 "nbformat": 4,
 "nbformat_minor": 5
}
